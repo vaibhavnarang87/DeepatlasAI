import os
import shutil

#Define the path to the directory containing the images
imagedir = './Pet_detection/images'

#List all files in the image directory
image_files = [f for f in os.listdir(image_dir) if os.path.isfile(os.path.join(image_dir, f))]

#Iterate over each image file
for image_file in image_files:
    # Extract the folder name from the image name (e.g., 'Abyssinian_1.jpg' -> 'Abyssinian')
    folder_name = image_file.split('')[0]

#Create the folder if it doesn't exist
    folder_path = os.path.join(image_dir, folder_name)
    if not os.path.exists(folder_path):
        os.makedirs(folder_path)

#Move the image file to the corresponding folder
    shutil.move(os.path.join(image_dir, image_file), os.path.join(folder_path, image_file))

print("Images have been organized into folders.")
import os
import shutil

#Define the path to the directory containing the images
imagedir = './Pet_detection/images'

#List all files in the image directory
image_files = [f for f in os.listdir(image_dir) if os.path.isfile(os.path.join(image_dir, f))]

#Iterate over each image file
for image_file in image_files:
    # Extract the folder name from the image name (e.g., 'Abyssinian_1.jpg' -> 'Abyssinian')
    folder_name = image_file.split('')[0]

#Create the folder if it doesn't exist
    folder_path = os.path.join(image_dir, folder_name)
    if not os.path.exists(folder_path):
        os.makedirs(folder_path)

#Move the image file to the corresponding folder
    shutil.move(os.path.join(image_dir, image_file), os.path.join(folder_path, image_file))

print("Images have been organized into folders.")
